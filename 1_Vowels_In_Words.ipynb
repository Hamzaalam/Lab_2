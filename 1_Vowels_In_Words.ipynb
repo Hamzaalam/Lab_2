{
 "cells": [
  {
   "cell_type": "code",
   "execution_count": 10,
   "metadata": {
    "collapsed": false
   },
   "outputs": [
    {
     "name": "stdout",
     "output_type": "stream",
     "text": [
      "3\n"
     ]
    }
   ],
   "source": [
    "#without dictionary\n",
    "word = \"Hello World\";\n",
    "count=0\n",
    "for c in word:\n",
    "    if c==\"a\" or c==\"A\":\n",
    "       count=count+1\n",
    "    if c==\"e\" or c==\"E\":\n",
    "       count= count+1\n",
    "    if c==\"i\" or c ==\"I\":\n",
    "       count= count+1\n",
    "    if c==\"o\" or c ==\"O\":\n",
    "        count=count+1\n",
    "    if c==\"u\" or c==\"U\":\n",
    "       count= count+1\n",
    "print(count)\n",
    "        "
   ]
  },
  {
   "cell_type": "code",
   "execution_count": 9,
   "metadata": {
    "collapsed": false
   },
   "outputs": [
    {
     "name": "stdout",
     "output_type": "stream",
     "text": [
      "0\n",
      "1\n",
      "0\n",
      "2\n",
      "0\n"
     ]
    }
   ],
   "source": [
    "#without dictionary\n",
    "word = \"Hello World\";\n",
    "countA=0\n",
    "countE=0\n",
    "countI=0\n",
    "countO=0\n",
    "countU=0\n",
    "\n",
    "for c in word:\n",
    "    if c==\"a\" or c==\"A\":\n",
    "       countA=countA+1\n",
    "    if c==\"e\" or c==\"E\":\n",
    "       countE= countE+1\n",
    "    if c==\"i\" or c ==\"I\":\n",
    "       countI= countI+1\n",
    "    if c==\"o\" or c ==\"O\":\n",
    "        countO=countO+1\n",
    "    if c==\"u\" or c==\"U\":\n",
    "       countU= countU+1\n",
    "print(countA)\n",
    "print(countE)\n",
    "print(countI)\n",
    "print(countO)\n",
    "print(countU)\n",
    "\n",
    "        "
   ]
  },
  {
   "cell_type": "code",
   "execution_count": 15,
   "metadata": {
    "collapsed": false
   },
   "outputs": [
    {
     "name": "stdout",
     "output_type": "stream",
     "text": [
      "5\n"
     ]
    }
   ],
   "source": [
    "vowel = {\"a\",\"e\",\"i\",\"o\",\"u\",\"A\",\"E\",\"I\",\"O\",\"U\"}\n",
    "count=0\n",
    "\n",
    "line = \"Hello pakistan\"\n",
    "\n",
    "for c in line:\n",
    "    if c in vowel:\n",
    "        count = count + 1\n",
    "\n",
    "print(count)"
   ]
  },
  {
   "cell_type": "code",
   "execution_count": 18,
   "metadata": {
    "collapsed": false
   },
   "outputs": [
    {
     "name": "stdout",
     "output_type": "stream",
     "text": [
      "ENTER SENTENCE : Hello world\n"
     ]
    },
    {
     "data": {
      "text/plain": [
       "{'e': 1, 'o': 2}"
      ]
     },
     "execution_count": 18,
     "metadata": {},
     "output_type": "execute_result"
    }
   ],
   "source": [
    "line = input (\"ENTER SENTENCE : \")\n",
    "d = {}\n",
    "\n",
    "a=e=i=o=u=0\n",
    "\n",
    "for c in line:\n",
    "    if c==\"a\" or c ==\"A\":\n",
    "        d[\"a\"] = d.get(c,0)+1\n",
    "    if c==\"e\" or c ==\"E\":    \n",
    "        d[\"e\"] = d.get(c,0)+1\n",
    "    if c==\"i\" or c ==\"I\":    \n",
    "        d[\"i\"] = d.get(c,0)+1\n",
    "    if c==\"o\" or c ==\"O\":    \n",
    "        d[\"o\"] = d.get(c,0)+1\n",
    "    if c==\"u\" or c ==\"U\":    \n",
    "        d[\"u\"] = d.get(c,0)+1\n",
    "        \n",
    "d"
   ]
  },
  {
   "cell_type": "code",
   "execution_count": null,
   "metadata": {
    "collapsed": true
   },
   "outputs": [],
   "source": []
  }
 ],
 "metadata": {
  "anaconda-cloud": {},
  "kernelspec": {
   "display_name": "Python [Root]",
   "language": "python",
   "name": "Python [Root]"
  },
  "language_info": {
   "codemirror_mode": {
    "name": "ipython",
    "version": 3
   },
   "file_extension": ".py",
   "mimetype": "text/x-python",
   "name": "python",
   "nbconvert_exporter": "python",
   "pygments_lexer": "ipython3",
   "version": "3.5.2"
  }
 },
 "nbformat": 4,
 "nbformat_minor": 0
}
