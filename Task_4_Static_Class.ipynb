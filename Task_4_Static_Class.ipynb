{
 "cells": [
  {
   "cell_type": "code",
   "execution_count": 5,
   "metadata": {
    "collapsed": false
   },
   "outputs": [],
   "source": [
    "class shape:\n",
    "    @staticmethod\n",
    "    def print_type():\n",
    "        print(\"Shape\")\n",
    "    def __init__(self):\n",
    "        print(\"Shape Constructor called\")\n",
    "    def draw(self):\n",
    "        print(\"shape.draw\")\n",
    "    def area(self):\n",
    "        print(\"shape.area\")"
   ]
  },
  {
   "cell_type": "code",
   "execution_count": 9,
   "metadata": {
    "collapsed": false
   },
   "outputs": [],
   "source": [
    "class Rectangle(shape):\n",
    "    def __init__(self):\n",
    "        super().__init__()\n",
    "        self.length = 0\n",
    "        self.width  = 0\n",
    "        print(\"Rectangle constructor called\")\n",
    "    def draw(self):\n",
    "        print(\"Rectangle.draw\")\n",
    "    def area(self):\n",
    "        print(\"Rectangle.area\")\n",
    "    "
   ]
  },
  {
   "cell_type": "code",
   "execution_count": 11,
   "metadata": {
    "collapsed": true
   },
   "outputs": [],
   "source": [
    "class Rectangle(shape):\n",
    "    def __init__(self):\n",
    "        super().__init__()\n",
    "        self.x=0\n",
    "        self.y=0\n",
    "        self.z=0\n",
    "        print(\"Rectangle constructor called\")\n",
    "    def draw(self):\n",
    "        print(\"Rectangle.draw\")\n",
    "    def area(self):\n",
    "        print(\"Rectangle.area\")"
   ]
  },
  {
   "cell_type": "code",
   "execution_count": 12,
   "metadata": {
    "collapsed": false
   },
   "outputs": [
    {
     "name": "stdout",
     "output_type": "stream",
     "text": [
      "Shape Constructor called\n",
      "Rectangle constructor called\n",
      "Rectangle.draw\n"
     ]
    }
   ],
   "source": [
    "r = Rectangle()\n",
    "r.draw()"
   ]
  },
  {
   "cell_type": "code",
   "execution_count": null,
   "metadata": {
    "collapsed": true
   },
   "outputs": [],
   "source": []
  }
 ],
 "metadata": {
  "kernelspec": {
   "display_name": "Python [Root]",
   "language": "python",
   "name": "Python [Root]"
  },
  "language_info": {
   "codemirror_mode": {
    "name": "ipython",
    "version": 3
   },
   "file_extension": ".py",
   "mimetype": "text/x-python",
   "name": "python",
   "nbconvert_exporter": "python",
   "pygments_lexer": "ipython3",
   "version": "3.5.2"
  }
 },
 "nbformat": 4,
 "nbformat_minor": 0
}
